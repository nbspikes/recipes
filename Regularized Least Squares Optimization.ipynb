{
 "cells": [
  {
   "cell_type": "markdown",
   "metadata": {},
   "source": [
    "<h1 style=\"background-color:#0071BD;color:white;text-align:center;padding-top:0.8em;padding-bottom: 0.8em\">\n",
    "    Regularized Least Squares Optimization\n",
    "</h1>\n",
    "\n",
    "Accompanying notebook for the recipe:\n",
    "\n",
    "  * Christian Bauckhage: \"NumPy / SciPy Recipes for Data Science: Regularized Least Squares Optimization\", <br/>Technical Report, March 2015 ([Download from ResearchGate](https://www.researchgate.net/publication/274138835_NumPy_SciPy_Recipes_for_Data_Science_Regularized_Least_Squares_Optimization))\n",
    "\n",
    "  * Abstract of the paper: *In this note, we study the idea of regularized least squares for robust model fitting. That is, we look at how to modify the ordinary least squares approach such that it yields \"useful\" results even for data sets that are corrupted by outliers.*\n",
    "  \n",
    "<p style=\"background-color:#66A5D1;padding-top:0.2em;padding-bottom: 0.2em\" />"
   ]
  },
  {
   "cell_type": "code",
   "execution_count": 1,
   "metadata": {},
   "outputs": [],
   "source": [
    "import numpy as np\n",
    "import numpy.linalg as la\n",
    "import scipy.sparse.linalg as sla\n",
    "import matplotlib.pyplot as plt"
   ]
  },
  {
   "cell_type": "code",
   "execution_count": 2,
   "metadata": {},
   "outputs": [],
   "source": [
    "import numpy.random as rnd\n",
    "import warnings\n",
    "warnings.simplefilter(action='ignore', category=FutureWarning)"
   ]
  },
  {
   "cell_type": "markdown",
   "metadata": {},
   "source": [
    "## Solving Regularized Least Squares"
   ]
  },
  {
   "cell_type": "code",
   "execution_count": 3,
   "metadata": {},
   "outputs": [],
   "source": [
    "def rlsq_solution_V1(X, y, l):\n",
    "    n, m = X.shape\n",
    "    I = np.identity(m)\n",
    "    w = la.inv(X.T.dot(X) + l*I).dot(X.T).dot(y)\n",
    "    return w"
   ]
  },
  {
   "cell_type": "code",
   "execution_count": 4,
   "metadata": {},
   "outputs": [],
   "source": [
    "def rlsq_solution_V2(X, y, l):\n",
    "    w = sla.lsqr(X, y, damp=l)[0]\n",
    "    return w"
   ]
  },
  {
   "cell_type": "code",
   "execution_count": 5,
   "metadata": {},
   "outputs": [],
   "source": [
    "def rlsq_solution_V3(X, y, l):\n",
    "    w = sla.lsmr(X, y, damp=l)[0]\n",
    "    return w"
   ]
  },
  {
   "cell_type": "markdown",
   "metadata": {
    "scrolled": true
   },
   "source": [
    "## Comparison with Ordinary Least Squares"
   ]
  },
  {
   "cell_type": "code",
   "execution_count": 6,
   "metadata": {},
   "outputs": [],
   "source": [
    "def create_data(n, xmin=-2, xmax=12, a=1.1, b=2.0):\n",
    "    x = rnd.random(n) * (xmax - xmin) + xmin\n",
    "    y = a * x + b + rnd.randn(n) * 0.5\n",
    "    return x, y"
   ]
  },
  {
   "cell_type": "code",
   "execution_count": 7,
   "metadata": {},
   "outputs": [],
   "source": [
    "x, y = create_data(25)\n",
    "noise_x, noise_y = create_data(3, 0, 2, 1.1, 7)\n",
    "x = np.concatenate([x, noise_x])\n",
    "y = np.concatenate([y, noise_y])"
   ]
  },
  {
   "cell_type": "code",
   "execution_count": 8,
   "metadata": {},
   "outputs": [
    {
     "data": {
      "image/png": "[encoded data removed]",
      "text/plain": [
       "<Figure size 432x288 with 1 Axes>"
      ]
     },
     "metadata": {},
     "output_type": "display_data"
    }
   ],
   "source": [
    "X = np.vander(x, 2)\n",
    "\n",
    "wo = la.lstsq(X, y        )[0]; yo = X.dot(wo)\n",
    "wr = sla.lsqr(X, y, damp=3)[0]; yr = X.dot(wr)\n",
    "\n",
    "plt.plot(x, y, 'o')\n",
    "plt.plot(x, yo,  '-', color='orange')\n",
    "plt.plot(x, yr, '-', color='red')\n",
    "plt.show()"
   ]
  },
  {
   "cell_type": "markdown",
   "metadata": {
    "scrolled": true
   },
   "source": [
    "## Performance comparison"
   ]
  },
  {
   "cell_type": "code",
   "execution_count": 9,
   "metadata": {},
   "outputs": [],
   "source": [
    "import timeit"
   ]
  },
  {
   "cell_type": "code",
   "execution_count": 10,
   "metadata": {},
   "outputs": [
    {
     "name": "stdout",
     "output_type": "stream",
     "text": [
      "m = 100\n",
      "\n",
      "         n        V1        V2        V3\n",
      "       100     0.011     0.034     0.026\n",
      "      1000     0.012     0.021     0.017\n",
      "     10000     0.038     0.018     0.014\n",
      "    100000     0.554     0.222     0.142\n",
      "   1000000     5.411     1.349     0.957\n"
     ]
    }
   ],
   "source": [
    "m = 100\n",
    "print('m =', m)\n",
    "print()\n",
    "\n",
    "print(9*' '+'n', end='')\n",
    "for v in [1, 2, 3]:\n",
    "    print(8*' ' + 'V{}'.format(v), end='')\n",
    "print()\n",
    "\n",
    "for n in [100, 1_000, 10_000, 100_000, 1_000_000]:\n",
    "    print('{:10}'.format(n), end='')\n",
    "    for v in [1, 2, 3]:\n",
    "        t = timeit.timeit(\n",
    "            stmt    = 'rlsq_solution_V{}(X, y, 8)'.format(v), \n",
    "            setup   = 'X = rnd.randn(n, m); y = rnd.rand(n)', \n",
    "            number  = 12, \n",
    "            globals = globals()\n",
    "        )\n",
    "        print('{:10.3f}'.format(t), end='')\n",
    "    print()"
   ]
  },
  {
   "cell_type": "code",
   "execution_count": 11,
   "metadata": {},
   "outputs": [
    {
     "name": "stdout",
     "output_type": "stream",
     "text": [
      "n = 100\n",
      "\n",
      "         m        V1        V2        V3\n",
      "       100     0.004     0.014     0.012\n",
      "      1000     0.316     0.022     0.020\n",
      "     10000   106.741     0.023     0.020\n"
     ]
    }
   ],
   "source": [
    "n = 100\n",
    "print('n =', n)\n",
    "print()\n",
    "\n",
    "print(9*' '+'m', end='')\n",
    "for v in [1, 2, 3]:\n",
    "    print(8*' ' + 'V{}'.format(v), end='')\n",
    "print()\n",
    "\n",
    "for m in [100, 1_000, 10_000]:\n",
    "    print('{:10}'.format(m), end='')\n",
    "    for v in [1, 2, 3]:\n",
    "        t = timeit.timeit(\n",
    "            stmt    = 'rlsq_solution_V{}(X, y, 8)'.format(v), \n",
    "            setup   = 'X = rnd.randn(n, m); y = rnd.rand(n)', \n",
    "            number  = 12, \n",
    "            globals = globals()\n",
    "        )\n",
    "        print('{:10.3f}'.format(t), end='')\n",
    "    print()"
   ]
  },
  {
   "cell_type": "markdown",
   "metadata": {
    "scrolled": true
   },
   "source": [
    "## Comparison of Different Damping Factors"
   ]
  },
  {
   "cell_type": "code",
   "execution_count": 12,
   "metadata": {},
   "outputs": [],
   "source": [
    "x, y = create_data(25)\n",
    "noise_x, noise_y = create_data(3, 0, 2, 1.1, 7)\n",
    "x = np.concatenate([x, noise_x])\n",
    "y = np.concatenate([y, noise_y])"
   ]
  },
  {
   "cell_type": "code",
   "execution_count": 13,
   "metadata": {},
   "outputs": [],
   "source": [
    "X = np.vander(x, 2)\n",
    "wo = la.lstsq(X, y)[0]\n",
    "yo = X.dot(wo)"
   ]
  },
  {
   "cell_type": "code",
   "execution_count": 14,
   "metadata": {},
   "outputs": [
    {
     "name": "stdout",
     "output_type": "stream",
     "text": [
      "lambda =  1\n"
     ]
    },
    {
     "data": {
      "image/png": "[encoded data removed]",
      "text/plain": [
       "<Figure size 432x288 with 1 Axes>"
      ]
     },
     "metadata": {},
     "output_type": "display_data"
    },
    {
     "name": "stdout",
     "output_type": "stream",
     "text": [
      "lambda =  2\n"
     ]
    },
    {
     "data": {
      "image/png": "[encoded data removed]",
      "text/plain": [
       "<Figure size 432x288 with 1 Axes>"
      ]
     },
     "metadata": {},
     "output_type": "display_data"
    },
    {
     "name": "stdout",
     "output_type": "stream",
     "text": [
      "lambda =  4\n"
     ]
    },
    {
     "data": {
      "image/png": "[encoded data removed]",
      "text/plain": [
       "<Figure size 432x288 with 1 Axes>"
      ]
     },
     "metadata": {},
     "output_type": "display_data"
    },
    {
     "name": "stdout",
     "output_type": "stream",
     "text": [
      "lambda =  8\n"
     ]
    },
    {
     "data": {
      "image/png": "[encoded data removed]",
      "text/plain": [
       "<Figure size 432x288 with 1 Axes>"
      ]
     },
     "metadata": {},
     "output_type": "display_data"
    },
    {
     "name": "stdout",
     "output_type": "stream",
     "text": [
      "lambda =  16\n"
     ]
    },
    {
     "data": {
      "image/png": "[encoded data removed]",
      "text/plain": [
       "<Figure size 432x288 with 1 Axes>"
      ]
     },
     "metadata": {},
     "output_type": "display_data"
    }
   ],
   "source": [
    "for l in [1, 2, 4, 8, 16]:\n",
    "    \n",
    "    wr = sla.lsqr(X, y, damp=l)[0]\n",
    "    yr = X.dot(wr)\n",
    "    \n",
    "    print('lambda = ', l)\n",
    "    plt.plot(x, y, 'o')\n",
    "    plt.plot(x, yo,  '-', color='orange')\n",
    "    plt.plot(x, yr, '-', color='red')\n",
    "    plt.show()"
   ]
  },
  {
   "cell_type": "markdown",
   "metadata": {},
   "source": [
    "<table style=\"width:100%\">\n",
    "  <tr>\n",
    "      <td colspan=\"1\" style=\"text-align:left;background-color:#0071BD;color:white\">\n",
    "        <a rel=\"license\" href=\"http://creativecommons.org/licenses/by-nc/4.0/\">\n",
    "            <img alt=\"Creative Commons License\" style=\"border-width:0;float:left;padding-right:10pt\"\n",
    "                 src=\"https://i.creativecommons.org/l/by-nc/4.0/88x31.png\" />\n",
    "        </a>\n",
    "        &copy; C. Bauckhage and O. Cremers<br/>\n",
    "        Licensed under a \n",
    "        <a rel=\"license\" href=\"http://creativecommons.org/licenses/by-nc/4.0/\" style=\"color:white\">\n",
    "            CC BY-NC 4.0\n",
    "        </a>.\n",
    "      </td>\n",
    "      <td colspan=\"2\" style=\"text-align:left;background-color:#66A5D1\">\n",
    "          <b>Acknowledgments:</b>\n",
    "          This material was prepared within the project\n",
    "          <a href=\"http://www.b-it-center.de/b-it-programmes/teaching-material/p3ml/\" style=\"color:black\">\n",
    "              P3ML\n",
    "          </a> \n",
    "          which is funded by the Ministry of Education and Research of Germany (BMBF)\n",
    "          under grant number 01/S17064. The authors gratefully acknowledge this support.\n",
    "      </td>\n",
    "  </tr>\n",
    "</table>"
   ]
  }
 ],
 "metadata": {
  "kernelspec": {
   "display_name": "Python 3",
   "language": "python",
   "name": "python3"
  },
  "language_info": {
   "codemirror_mode": {
    "name": "ipython",
    "version": 3
   },
   "file_extension": ".py",
   "mimetype": "text/x-python",
   "name": "python",
   "nbconvert_exporter": "python",
   "pygments_lexer": "ipython3",
   "version": "3.6.6"
  }
 },
 "nbformat": 4,
 "nbformat_minor": 2
}
