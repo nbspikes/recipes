{
 "cells": [
  {
   "cell_type": "markdown",
   "metadata": {},
   "source": [
    "<h1 style=\"background-color:#0071BD;color:white;text-align:center;padding-top:0.8em;padding-bottom: 0.8em\">\n",
    "Kernel Least Squares Optimization (1)\n",
    "</h1>\n",
    "\n",
    "Accompanying notebook for the recipe:\n",
    "\n",
    "  * Christian Bauckhage: \"NumPy / SciPy Recipes for Data Science: Kernel Least Squares Optimization (1)\", <br/>Technical Report, March 2015 ([Download from ResearchGate](https://www.researchgate.net/publication/274374009_NumPy_SciPy_Recipes_for_Data_Science_Kernel_Least_Squares_Optimization_1))\n",
    "\n",
    "  * Abstract of the paper: _In this note, we show that least squares optimization is amenable to the kernel trick. This provides great flexibility in model fitting and we consider examples that illustrate this. In particular, we will discuss how kernel functions can implicitly introduce non-linearity into the least squares method._\n",
    "  \n",
    "<p style=\"background-color:#66A5D1;padding-top:0.2em;padding-bottom: 0.2em\" />"
   ]
  },
  {
   "cell_type": "code",
   "execution_count": 1,
   "metadata": {},
   "outputs": [],
   "source": [
    "import numpy as np\n",
    "import numpy.linalg as la\n",
    "import numpy.random as rnd\n",
    "\n",
    "import scipy.spatial as spt\n",
    "import scipy.sparse.linalg as sla\n",
    "\n",
    "import matplotlib.pyplot as plt"
   ]
  },
  {
   "cell_type": "markdown",
   "metadata": {},
   "source": [
    "## 2D Data Points"
   ]
  },
  {
   "cell_type": "code",
   "execution_count": 2,
   "metadata": {},
   "outputs": [],
   "source": [
    "def create_data_2D(n, w, xmin=-4, xmax=8):\n",
    "    x = rnd.random(n) * (xmax - xmin) + xmin\n",
    "    X = np.vander(x, len(w))\n",
    "    y = np.dot(X, w) + rnd.randn(n) * 0.5\n",
    "    return x, y"
   ]
  },
  {
   "cell_type": "code",
   "execution_count": 3,
   "metadata": {},
   "outputs": [],
   "source": [
    "n = 50\n",
    "wTrain = np.array([0.1, -0.8, 0.0, 11.5])\n",
    "xTrain, yTrain = create_data_2D(n, wTrain)"
   ]
  },
  {
   "cell_type": "code",
   "execution_count": 4,
   "metadata": {},
   "outputs": [
    {
     "data": {
      "image/png": "[encoded data removed]",
      "text/plain": [
       "<Figure size 432x288 with 1 Axes>"
      ]
     },
     "metadata": {
      "needs_background": "light"
     },
     "output_type": "display_data"
    }
   ],
   "source": [
    "plt.scatter(xTrain, yTrain)\n",
    "plt.show()"
   ]
  },
  {
   "cell_type": "markdown",
   "metadata": {},
   "source": [
    "## Regularized Linear Regression"
   ]
  },
  {
   "cell_type": "code",
   "execution_count": 5,
   "metadata": {},
   "outputs": [],
   "source": [
    "XTrain = np.vander(xTrain, 2)\n",
    "w = sla.lsmr(XTrain, yTrain, damp=1.)[0] "
   ]
  },
  {
   "cell_type": "code",
   "execution_count": 6,
   "metadata": {},
   "outputs": [],
   "source": [
    "N = 2 * n\n",
    "xTest = np.linspace(-4, 8, N)\n",
    "XTest = np.vander(xTest, 2)\n",
    "yTest = XTest.dot(w)"
   ]
  },
  {
   "cell_type": "code",
   "execution_count": 7,
   "metadata": {},
   "outputs": [
    {
     "data": {
      "image/png": "[encoded data removed]",
      "text/plain": [
       "<Figure size 432x288 with 1 Axes>"
      ]
     },
     "metadata": {
      "needs_background": "light"
     },
     "output_type": "display_data"
    }
   ],
   "source": [
    "plt.scatter(xTrain, yTrain)\n",
    "plt.plot(xTest, yTest, '-', color='orange')\n",
    "plt.show()"
   ]
  },
  {
   "cell_type": "markdown",
   "metadata": {},
   "source": [
    "## Polynomial Kernel Regression"
   ]
  },
  {
   "cell_type": "code",
   "execution_count": 8,
   "metadata": {},
   "outputs": [],
   "source": [
    "def polyKernelMat(X, p):\n",
    "    return (X.dot(X.T) + 1.)**p\n",
    "\n",
    "def polyKernelVec(x, X, p):\n",
    "    return (x.dot(X.T) + 1.)**p"
   ]
  },
  {
   "cell_type": "code",
   "execution_count": 9,
   "metadata": {},
   "outputs": [],
   "source": [
    "p = 3\n",
    "K = polyKernelMat(XTrain, p)\n",
    "KI = la.inv(K + 1. * np.identity(n))\n",
    "KIy = KI.dot(yTrain)"
   ]
  },
  {
   "cell_type": "code",
   "execution_count": 10,
   "metadata": {},
   "outputs": [],
   "source": [
    "xTest = np.linspace(-4, 8, N)\n",
    "XTest = np.vander(xTest, 2)\n",
    "yTest = np.zeros(N)\n",
    "for i in range(N):\n",
    "    k = polyKernelVec(XTest[i,:], XTrain, p)\n",
    "    yTest[i] = k.dot(KIy)"
   ]
  },
  {
   "cell_type": "code",
   "execution_count": 11,
   "metadata": {},
   "outputs": [
    {
     "data": {
      "image/png": "[encoded data removed]",
      "text/plain": [
       "<Figure size 432x288 with 1 Axes>"
      ]
     },
     "metadata": {
      "needs_background": "light"
     },
     "output_type": "display_data"
    }
   ],
   "source": [
    "plt.scatter(xTrain, yTrain)\n",
    "plt.plot(xTest, yTest, '-', color='orange')\n",
    "plt.show()"
   ]
  },
  {
   "cell_type": "markdown",
   "metadata": {},
   "source": [
    "## Gaussian Kernel Regression"
   ]
  },
  {
   "cell_type": "code",
   "execution_count": 12,
   "metadata": {},
   "outputs": [],
   "source": [
    "def squaredEDM(X):\n",
    "    V = spt.distance.pdist(X, 'sqeuclidean')\n",
    "    D = spt.distance.squareform(V)\n",
    "    return D\n",
    "\n",
    "def gaussKernelMat(X, s):\n",
    "    D = squaredEDM(X)\n",
    "    K = np.exp(-0.5/s**2 * D)\n",
    "    return K\n",
    "\n",
    "def gaussKernelVec(x, X, s):\n",
    "    d = np.sum((X-x)**2, axis=1)\n",
    "    k = np.exp(-0.5/s**2 * d)\n",
    "    return k"
   ]
  },
  {
   "cell_type": "code",
   "execution_count": 13,
   "metadata": {},
   "outputs": [],
   "source": [
    "s = 2.5\n",
    "K = gaussKernelMat(XTrain, s)\n",
    "KI = la.inv(K + 1. * np.identity(n))\n",
    "KIy = KI.dot(yTrain)"
   ]
  },
  {
   "cell_type": "code",
   "execution_count": 14,
   "metadata": {},
   "outputs": [],
   "source": [
    "xTest = np.linspace(-4, 8, N)\n",
    "XTest = np.vander(xTest, 2)\n",
    "yTest = np.zeros(N)\n",
    "for i in range(N):\n",
    "    k = gaussKernelVec(XTest[i,:], XTrain, s)\n",
    "    yTest[i] = k.dot(KIy)"
   ]
  },
  {
   "cell_type": "code",
   "execution_count": 15,
   "metadata": {},
   "outputs": [
    {
     "data": {
      "image/png": "[encoded data removed]",
      "text/plain": [
       "<Figure size 432x288 with 1 Axes>"
      ]
     },
     "metadata": {
      "needs_background": "light"
     },
     "output_type": "display_data"
    }
   ],
   "source": [
    "plt.scatter(xTrain, yTrain)\n",
    "plt.plot(xTest, yTest, '-', color='orange')\n",
    "plt.show()"
   ]
  },
  {
   "cell_type": "markdown",
   "metadata": {},
   "source": [
    "<table style=\"width:100%\">\n",
    "  <tr>\n",
    "      <td colspan=\"1\" style=\"text-align:left;background-color:#0071BD;color:white\">\n",
    "        <a rel=\"license\" href=\"http://creativecommons.org/licenses/by-nc/4.0/\">\n",
    "            <img alt=\"Creative Commons License\" style=\"border-width:0;float:left;padding-right:10pt\"\n",
    "                 src=\"https://i.creativecommons.org/l/by-nc/4.0/88x31.png\" />\n",
    "        </a>\n",
    "        &copy; C. Bauckhage and O. Cremers<br/>\n",
    "        Licensed under a \n",
    "        <a rel=\"license\" href=\"http://creativecommons.org/licenses/by-nc/4.0/\" style=\"color:white\">\n",
    "            CC BY-NC 4.0\n",
    "        </a>.\n",
    "      </td>\n",
    "      <td colspan=\"2\" style=\"text-align:left;background-color:#66A5D1\">\n",
    "          <b>Acknowledgments:</b>\n",
    "          This material was prepared within the project\n",
    "          <a href=\"http://www.b-it-center.de/b-it-programmes/teaching-material/p3ml/\" style=\"color:black\">\n",
    "              P3ML\n",
    "          </a> \n",
    "          which is funded by the Ministry of Education and Research of Germany (BMBF)\n",
    "          under grant number 01/S17064. The authors gratefully acknowledge this support.\n",
    "      </td>\n",
    "  </tr>\n",
    "</table>"
   ]
  }
 ],
 "metadata": {
  "kernelspec": {
   "display_name": "Python 3",
   "language": "python",
   "name": "python3"
  },
  "language_info": {
   "codemirror_mode": {
    "name": "ipython",
    "version": 3
   },
   "file_extension": ".py",
   "mimetype": "text/x-python",
   "name": "python",
   "nbconvert_exporter": "python",
   "pygments_lexer": "ipython3",
   "version": "3.6.8"
  }
 },
 "nbformat": 4,
 "nbformat_minor": 2
}
