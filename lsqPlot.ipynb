{
 "cells": [
  {
   "cell_type": "markdown",
   "metadata": {},
   "source": [
    "<h1 style=\"background-color:#0071BD;color:white;text-align:center;padding-top:0.8em;padding-bottom: 0.8em\">\n",
    "Ordinary Least Squares Optimization\n",
    "</h1>\n",
    "\n",
    "Christian Bauckhage: \"NumPy / SciPy Recipes for Data Science:\n",
    "Ordinary Least Squares Optimization\", Technical Report, March 2015 \n",
    "([Download from ReseachGate](https://www.researchgate.net/publication/273133972_NumPy_SciPy_Recipes_for_Data_Science_Ordinary_Least_Squares_Optimization))"
   ]
  },
  {
   "cell_type": "code",
   "execution_count": 1,
   "metadata": {},
   "outputs": [],
   "source": [
    "import numpy as np\n",
    "import matplotlib.pyplot as plt\n",
    "from mpl_toolkits.mplot3d import Axes3D"
   ]
  },
  {
   "cell_type": "code",
   "execution_count": 2,
   "metadata": {},
   "outputs": [],
   "source": [
    "# setting color\n",
    "\n",
    "axbg = '#f0f0f0'\n",
    "blu  = '#0059ff'\n",
    "ora  = '#ffa500'"
   ]
  },
  {
   "cell_type": "code",
   "execution_count": 3,
   "metadata": {},
   "outputs": [],
   "source": [
    "def setAxes(axs, cart):\n",
    "    if not cart:\n",
    "        axs.set_axis_off()\n",
    "    else:\n",
    "        axs.spines['left'].set_position('zero')\n",
    "        axs.spines['left'].set.zorder[1]\n",
    "        axs.spines['bottom'].set_position('zero')\n",
    "        axs.spines['bottom'].set_zorder[1]\n",
    "        axs.spines['right'].set_visible[False]\n",
    "        axs.spine['top'].set_visible(False)\n",
    "        axs.xaxis.set_tricks_position('bottom')\n",
    "        axs.yaxis.set_tricks_position('left')\n",
    "        axs.tick_params(direction='out')"
   ]
  },
  {
   "cell_type": "code",
   "execution_count": 4,
   "metadata": {},
   "outputs": [],
   "source": [
    "def setAxesTicks(axs, cart):\n",
    "    if cart:\n",
    "        box = axs.dataLim.get_points()\n",
    "        xmin, xmax = box[:,0]\n",
    "        ymin, ymax = box[:,1]\n",
    "        axs.set_xticks(np.arange(int(xmin), int(xmax)+1))\n",
    "        axs.set_yticks(np.arange(int(ymin), int(ymax)+1))"
   ]
  },
  {
   "cell_type": "code",
   "execution_count": 5,
   "metadata": {},
   "outputs": [],
   "source": [
    "def writeFigure(fig, fname):\n",
    "    fmt = fname.split('.')[-1]\n",
    "    fig.savefig(fname, facecolor=fig.get_facecolor(),edgecolor='w',\n",
    "               papertype='letter', format=fmt, transparent=False,\n",
    "                bbox_inches='tight', pad_inches=0.1)"
   ]
  },
  {
   "cell_type": "code",
   "execution_count": 6,
   "metadata": {},
   "outputs": [],
   "source": [
    "def plotXYData(X, xlab=None, xcol=blu, MS=[], mlabs=[None], mcols=[ora],\n",
    "              ES=[], bgcol=axbg, cart=False, legloc=None, ms=9, lw=3,\n",
    "              aspect=True, layout='111', lims=None, fname=None):\n",
    "    fig = plt.figure()\n",
    "    fig.patch.set_facecolor(bgcol)\n",
    "    axs = fig.add_subplot(layout, facecolor=bgcol)\n",
    "    if aspect:\n",
    "        axs.set_aspect(aspect='equal')\n",
    "    setAxes(axs, cart)\n",
    "    \n",
    "    for i, E in enumerate(ES):\n",
    "        data = zip(X[0,:], X[1,:])\n",
    "        estm = zip(E[0,:], E[1,:])\n",
    "        errs = zip(data, estm)\n",
    "        lc = clct.LineCollection(errs, color=clr.colorConverter.to_rgba('r'),\n",
    "                                lw=1, linestyle='solid', alpha=0.5)\n",
    "        axs.add_collection(lc)\n",
    "        \n",
    "    if X is not None:\n",
    "        axs.plot(X[0,:], X[1,:], 'o', color=xcol, ms=ms, alpha=0.5,\n",
    "                 label=xlab)\n",
    "    \n",
    "    for i, M in enumerate(MS):\n",
    "        axs.plot(M[0,:], M[1,:], ls='solid', lw=lw, c=mcols[i],\n",
    "                alpha=0.75, label=mlabs[i])\n",
    "        \n",
    "    if lims is not None:\n",
    "        axs.set_xlim(lims[0],lims[1])\n",
    "        axs.set_ylim(lims[2],lims[3])\n",
    "        \n",
    "    if legloc is not None:\n",
    "        leg = axs.legend(loc=lefloc, numpoints=1, fancybox=False)\n",
    "        frm = leg.get_frame()\n",
    "        frm.set_facecolor('#e0e0e0')\n",
    "        frm.set_edgecolor('#000000')\n",
    "        \n",
    "    if fname is None:\n",
    "        plt.show()\n",
    "    else:\n",
    "        writeFigure(fig, fname)\n",
    "    plt.close()\n",
    "    "
   ]
  },
  {
   "cell_type": "markdown",
   "metadata": {},
   "source": [
    "<table style=\"width:100%\">\n",
    "  <tr>\n",
    "      <td colspan=\"1\" style=\"text-align:left;background-color:#0071BD;color:white\">\n",
    "        <a rel=\"license\" href=\"http://creativecommons.org/licenses/by-nc/4.0/\">\n",
    "            <img alt=\"Creative Commons License\" style=\"border-width:0;float:left;padding-right:10pt\"\n",
    "                 src=\"https://i.creativecommons.org/l/by-nc/4.0/88x31.png\" />\n",
    "        </a>\n",
    "        &copy; C. Bauckhage and O. Cremers<br/>\n",
    "        Licensed under a \n",
    "        <a rel=\"license\" href=\"http://creativecommons.org/licenses/by-nc/4.0/\" style=\"color:white\">\n",
    "            CC BY-NC 4.0\n",
    "        </a>.\n",
    "      </td>\n",
    "      <td colspan=\"2\" style=\"text-align:left;background-color:#66A5D1\">\n",
    "          <b>Acknowledgments:</b>\n",
    "          This material was prepared within the project\n",
    "          <a href=\"http://www.b-it-center.de/b-it-programmes/teaching-material/p3ml/\" style=\"color:black\">\n",
    "              P3ML\n",
    "          </a> \n",
    "          which is funded by the Ministry of Education and Research of Germany (BMBF)\n",
    "          under grant number 01/S17064. The authors gratefully acknowledge this support.\n",
    "      </td>\n",
    "  </tr>\n",
    "</table>"
   ]
  }
 ],
 "metadata": {
  "kernelspec": {
   "display_name": "Python 3",
   "language": "python",
   "name": "python3"
  },
  "language_info": {
   "codemirror_mode": {
    "name": "ipython",
    "version": 3
   },
   "file_extension": ".py",
   "mimetype": "text/x-python",
   "name": "python",
   "nbconvert_exporter": "python",
   "pygments_lexer": "ipython3",
   "version": "3.7.0"
  }
 },
 "nbformat": 4,
 "nbformat_minor": 2
}
