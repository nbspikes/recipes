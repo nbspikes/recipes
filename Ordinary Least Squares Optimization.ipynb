{
 "cells": [
  {
   "cell_type": "markdown",
   "metadata": {},
   "source": [
    "<h1 style=\"background-color:#0071BD;color:white;text-align:center;padding-top:0.8em;padding-bottom: 0.8em\">\n",
    "Ordinary Least Squares Optimization\n",
    "</h1>\n",
    "\n",
    "Accompanying notebook for the recipe:\n",
    "\n",
    "  * Christian Bauckhage: \"NumPy / SciPy Recipes for Data Science: Ordinary Least Squares Optimization\",<br/> Technical Report, March 2015 ([Download from ReseachGate](https://www.researchgate.net/publication/273133972_NumPy_SciPy_Recipes_for_Data_Science_Ordinary_Least_Squares_Optimization))\n",
    "\n",
    "  * Abstract of the paper: *In this note, we study least squares optimization for parameter estimation. By means of the basic example of a linear regression task, we explore different formulations of the ordinary least squares problem, show how to solve it using **NumPy** or **SciPy**, and provide suggestions for practical applications.*\n",
    "    \n",
    "<p style=\"background-color:#66A5D1;padding-top:0.2em;padding-bottom: 0.2em\" />"
   ]
  },
  {
   "cell_type": "code",
   "execution_count": 1,
   "metadata": {},
   "outputs": [],
   "source": [
    "%run \"lsqPlot.ipynb\""
   ]
  },
  {
   "cell_type": "code",
   "execution_count": 2,
   "metadata": {},
   "outputs": [],
   "source": [
    "import numpy as np\n",
    "import numpy.linalg as la\n",
    "import numpy.random as rnd"
   ]
  },
  {
   "cell_type": "code",
   "execution_count": 3,
   "metadata": {},
   "outputs": [],
   "source": [
    "import warnings\n",
    "warnings.simplefilter(action='ignore', category=FutureWarning)"
   ]
  },
  {
   "cell_type": "markdown",
   "metadata": {},
   "source": [
    "### Example data"
   ]
  },
  {
   "cell_type": "code",
   "execution_count": 4,
   "metadata": {},
   "outputs": [],
   "source": [
    "def create_data(n, xmin=-2, xmax=12, a=1.1, b=2.0):\n",
    "    x = rnd.random(n) * (xmax - xmin) + xmin\n",
    "    y = a * x + b + rnd.randn(n) * 0.5\n",
    "    return x, y"
   ]
  },
  {
   "cell_type": "code",
   "execution_count": 5,
   "metadata": {},
   "outputs": [],
   "source": [
    "x, y = create_data(25)"
   ]
  },
  {
   "cell_type": "code",
   "execution_count": 6,
   "metadata": {},
   "outputs": [
    {
     "name": "stdout",
     "output_type": "stream",
     "text": [
      "(4.00, 5.80), (8.77, 11.87), (11.31, 13.72), (0.35, 3.25), (11.30, 14.56), (6.31, 8.95), (11.65, 14.43), (8.62, 11.29), (11.01, 14.77), (-1.46, -0.54), (3.05, 5.94), (1.82, 4.40), (3.36, 5.14), (-0.14, 1.45), (8.09, 11.67), (1.19, 3.39), (11.05, 13.84), (-0.60, 1.49), (-1.54, 0.29), (-0.30, 1.04), (9.34, 12.24), (5.15, 7.71), (9.31, 11.39), (2.84, 6.07), (1.10, 3.68), "
     ]
    }
   ],
   "source": [
    "for xi, yi in zip(x, y):\n",
    "    print('({:.2f}, {:.2f})'.format(xi, yi), end=', ')"
   ]
  },
  {
   "cell_type": "code",
   "execution_count": 7,
   "metadata": {},
   "outputs": [
    {
     "data": {
      "image/png": "[encoded data removed]",
      "text/plain": [
       "<Figure size 432x288 with 1 Axes>"
      ]
     },
     "metadata": {},
     "output_type": "display_data"
    }
   ],
   "source": [
    "plt.scatter(x, y)\n",
    "plt.show()"
   ]
  },
  {
   "cell_type": "markdown",
   "metadata": {},
   "source": [
    "### Ordinary Least Squares"
   ]
  },
  {
   "cell_type": "code",
   "execution_count": 8,
   "metadata": {},
   "outputs": [
    {
     "data": {
      "image/png": "[encoded data removed]",
      "text/plain": [
       "<Figure size 432x288 with 1 Axes>"
      ]
     },
     "metadata": {},
     "output_type": "display_data"
    }
   ],
   "source": [
    "X = np.vander(x, 2)\n",
    "w = la.lstsq(X, y)[0]\n",
    "yhat = X.dot(w)\n",
    "\n",
    "plt.plot(x, y, 'o')\n",
    "plt.plot(x, yhat, '-')\n",
    "plt.show()"
   ]
  },
  {
   "cell_type": "markdown",
   "metadata": {},
   "source": [
    "## Comparison of Implementation Variants"
   ]
  },
  {
   "cell_type": "markdown",
   "metadata": {},
   "source": [
    "### Computing a data matrix for linear regression"
   ]
  },
  {
   "cell_type": "code",
   "execution_count": 9,
   "metadata": {},
   "outputs": [],
   "source": [
    "def data_matrix_V1(x):\n",
    "    n = len(x)\n",
    "    return np.vstack((x, np.ones(n))).T\n",
    "\n",
    "def data_matrix_V2(x):\n",
    "    return np.vstack((x, np.ones_like(x))).T\n",
    "    \n",
    "def data_matrix_V3(x):\n",
    "    return np.vander(x, 2)"
   ]
  },
  {
   "cell_type": "markdown",
   "metadata": {},
   "source": [
    "#### All three variants create the same matrix"
   ]
  },
  {
   "cell_type": "code",
   "execution_count": 10,
   "metadata": {},
   "outputs": [
    {
     "name": "stdout",
     "output_type": "stream",
     "text": [
      "[[4.7 1. ]\n",
      " [1.1 1. ]]\n",
      "\n",
      "[[4.7 1. ]\n",
      " [1.1 1. ]]\n",
      "\n",
      "[[4.7 1. ]\n",
      " [1.1 1. ]]\n"
     ]
    }
   ],
   "source": [
    "x = [4.7, 1.1]\n",
    "\n",
    "print(data_matrix_V1(x)); print()\n",
    "print(data_matrix_V2(x)); print()\n",
    "print(data_matrix_V3(x))"
   ]
  },
  {
   "cell_type": "markdown",
   "metadata": {},
   "source": [
    "### Solving Least Squares for Linear Regression"
   ]
  },
  {
   "cell_type": "code",
   "execution_count": 11,
   "metadata": {},
   "outputs": [],
   "source": [
    "def lsq_solution_V1(X, y):\n",
    "    w = la.inv(X.T.dot(X)).dot(X.T).dot(y)\n",
    "    return w\n",
    "\n",
    "def lsq_solution_V2(X, y):\n",
    "    w = np.dot(la.pinv(X), y)\n",
    "    return w\n",
    "\n",
    "def lsq_solution_V3(X, y):\n",
    "    w, residual, rank, svalues = la.lstsq(X, y)\n",
    "    return w"
   ]
  },
  {
   "cell_type": "markdown",
   "metadata": {},
   "source": [
    "#### All three variants create the same regression line"
   ]
  },
  {
   "cell_type": "code",
   "execution_count": 12,
   "metadata": {},
   "outputs": [
    {
     "name": "stdout",
     "output_type": "stream",
     "text": [
      "Version 1, w = [1.07238349 2.13211921]\n"
     ]
    },
    {
     "data": {
      "image/png": "[encoded data removed]",
      "text/plain": [
       "<Figure size 432x288 with 1 Axes>"
      ]
     },
     "metadata": {},
     "output_type": "display_data"
    },
    {
     "name": "stdout",
     "output_type": "stream",
     "text": [
      "\n",
      "Version 2, w = [1.07238349 2.13211921]\n"
     ]
    },
    {
     "data": {
      "image/png": "[encoded data removed]",
      "text/plain": [
       "<Figure size 432x288 with 1 Axes>"
      ]
     },
     "metadata": {},
     "output_type": "display_data"
    },
    {
     "name": "stdout",
     "output_type": "stream",
     "text": [
      "\n",
      "Version 3, w = [1.07238349 2.13211921]\n"
     ]
    },
    {
     "data": {
      "image/png": "[encoded data removed]",
      "text/plain": [
       "<Figure size 432x288 with 1 Axes>"
      ]
     },
     "metadata": {},
     "output_type": "display_data"
    }
   ],
   "source": [
    "n = 25\n",
    "x, y = create_data(n)\n",
    "\n",
    "X = np.vander(x, 2)\n",
    "w1 = lsq_solution_V1(X, y)\n",
    "yhat1 = X.dot(w1)\n",
    "\n",
    "w2 = lsq_solution_V2(X, y)\n",
    "yhat2 = X.dot(w2)\n",
    "\n",
    "w3 = lsq_solution_V3(X, y)\n",
    "yhat3 = X.dot(w3)\n",
    "\n",
    "print('Version 1, w =', w1)\n",
    "plt.plot(x, y, 'o')\n",
    "plt.plot(x, yhat1, '-')\n",
    "plt.show()\n",
    "print()\n",
    "\n",
    "print('Version 2, w =', w2)\n",
    "plt.plot(x, y, 'o')\n",
    "plt.plot(x, yhat2, '-')\n",
    "plt.show()\n",
    "print()\n",
    "\n",
    "print('Version 3, w =', w3)\n",
    "plt.plot(x, y, 'o')\n",
    "plt.plot(x, yhat3, '-')\n",
    "plt.show()"
   ]
  },
  {
   "cell_type": "markdown",
   "metadata": {},
   "source": [
    "### Performance comparison"
   ]
  },
  {
   "cell_type": "code",
   "execution_count": 13,
   "metadata": {},
   "outputs": [
    {
     "name": "stdout",
     "output_type": "stream",
     "text": [
      "         n        V1        V2        V3\n",
      "       100     0.002     0.011     0.005\n",
      "      1000     0.003     0.009     0.006\n",
      "     10000     0.008     0.036     0.016\n",
      "    100000     0.068     0.141     0.061\n",
      "   1000000     0.558     1.508     0.747\n"
     ]
    }
   ],
   "source": [
    "import timeit\n",
    "\n",
    "print(9*' '+'n', end='')\n",
    "for v in [1, 2, 3]:\n",
    "    print(8*' ' + 'V{}'.format(v), end='')\n",
    "print()\n",
    "\n",
    "for n in [100, 1_000, 10_000, 100_000, 1_000_000]:\n",
    "    print('{:10}'.format(n), end='')\n",
    "    for v in [1, 2, 3]:\n",
    "        t = timeit.timeit(\n",
    "            stmt    = 'lsq_solution_V{}(X, y)'.format(v), \n",
    "            setup   = 'x, y = create_data(n); X = np.vander(x, 2)', \n",
    "            number  = 100, \n",
    "            globals = globals()\n",
    "        )\n",
    "        print('{:10.3f}'.format(t), end='')\n",
    "    print()"
   ]
  },
  {
   "cell_type": "markdown",
   "metadata": {},
   "source": [
    "## Recreating the nicer plots of the paper"
   ]
  },
  {
   "cell_type": "code",
   "execution_count": 14,
   "metadata": {},
   "outputs": [],
   "source": [
    "def dataXYBoundingBox(X, extension=0.1):\n",
    "    xmin = X[0, :].min(); xmax = X[0,:].max(); dx = xmax - xmin\n",
    "    ymin = X[1, :].min(); ymax = X[1,:].max(); dy = ymax - ymin\n",
    "    \n",
    "    return [xmin - extension * dx, xmax + extension * dx,\n",
    "            ymin - extension * dy, ymax + extension * dy]"
   ]
  },
  {
   "cell_type": "code",
   "execution_count": 15,
   "metadata": {},
   "outputs": [],
   "source": [
    "x, y = create_data(25)\n",
    "X = np.vstack((x,y)) "
   ]
  },
  {
   "cell_type": "code",
   "execution_count": 16,
   "metadata": {},
   "outputs": [
    {
     "data": {
      "image/png": "[encoded data removed]",
      "text/plain": [
       "<Figure size 432x288 with 1 Axes>"
      ]
     },
     "metadata": {},
     "output_type": "display_data"
    },
    {
     "data": {
      "image/png": "[encoded data removed]",
      "text/plain": [
       "<Figure size 432x288 with 1 Axes>"
      ]
     },
     "metadata": {},
     "output_type": "display_data"
    },
    {
     "name": "stdout",
     "output_type": "stream",
     "text": [
      "w =  [1.09932018 1.95329487]\n"
     ]
    }
   ],
   "source": [
    "limits = dataXYBoundingBox(X, extension=0.3)\n",
    "\n",
    "C = np.vander(x, 2)\n",
    "w = la.lstsq(C, y)[0]\n",
    "\n",
    "umin = np.floor(limits[0])\n",
    "umax = np.ceil (limits[1])\n",
    "u = np.array([umin,umax])\n",
    "v = np.dot(np.vander(u, 2), w)\n",
    "M = np.vstack((u,v))\n",
    "\n",
    "\n",
    "plotXYData(X, xlab='data', cart=True, lims=limits, legloc=[0.7,-0.03])\n",
    "plotXYData(X, MS=[M], mlabs=['OLS model'], cart=True, lims=limits, legloc=[0.5,-0.03])\n",
    "print ('w = ', w)"
   ]
  },
  {
   "cell_type": "markdown",
   "metadata": {},
   "source": [
    "<table style=\"width:100%\">\n",
    "  <tr>\n",
    "      <td colspan=\"1\" style=\"text-align:left;background-color:#0071BD;color:white\">\n",
    "        <a rel=\"license\" href=\"http://creativecommons.org/licenses/by-nc/4.0/\">\n",
    "            <img alt=\"Creative Commons License\" style=\"border-width:0;float:left;padding-right:10pt\"\n",
    "                 src=\"https://i.creativecommons.org/l/by-nc/4.0/88x31.png\" />\n",
    "        </a>\n",
    "        &copy; C. Bauckhage and O. Cremers<br/>\n",
    "        Licensed under a \n",
    "        <a rel=\"license\" href=\"http://creativecommons.org/licenses/by-nc/4.0/\" style=\"color:white\">\n",
    "            CC BY-NC 4.0\n",
    "        </a>.\n",
    "      </td>\n",
    "      <td colspan=\"2\" style=\"text-align:left;background-color:#66A5D1\">\n",
    "          <b>Acknowledgments:</b>\n",
    "          This material was prepared within the project\n",
    "          <a href=\"http://www.b-it-center.de/b-it-programmes/teaching-material/p3ml/\" style=\"color:black\">\n",
    "              P3ML\n",
    "          </a> \n",
    "          which is funded by the Ministry of Education and Research of Germany (BMBF)\n",
    "          under grant number 01/S17064. The authors gratefully acknowledge this support.\n",
    "      </td>\n",
    "  </tr>\n",
    "</table>"
   ]
  }
 ],
 "metadata": {
  "kernelspec": {
   "display_name": "Python 3",
   "language": "python",
   "name": "python3"
  },
  "language_info": {
   "codemirror_mode": {
    "name": "ipython",
    "version": 3
   },
   "file_extension": ".py",
   "mimetype": "text/x-python",
   "name": "python",
   "nbconvert_exporter": "python",
   "pygments_lexer": "ipython3",
   "version": "3.6.6"
  }
 },
 "nbformat": 4,
 "nbformat_minor": 2
}
