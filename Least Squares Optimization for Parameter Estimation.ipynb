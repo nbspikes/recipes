{
 "cells": [
  {
   "cell_type": "markdown",
   "metadata": {},
   "source": [
    "<h1 style=\"background-color:#0071BD;color:white;text-align:center;padding-top:0.8em;padding-bottom: 0.8em\">\n",
    "Least Squares optimization for parameter estimation\n",
    "</h1>\n",
    "\n",
    "Christian Bauckhage: \"NumPy / SciPy Recipes for Data Science:\n",
    "Ordinary Least Squares Optimization\", Technical Report, March 2015 \n",
    "([Download from ReseachGate](https://www.researchgate.net/publication/273133972_NumPy_SciPy_Recipes_for_Data_Science_Ordinary_Least_Squares_Optimization))"
   ]
  },
  {
   "cell_type": "code",
   "execution_count": 1,
   "metadata": {},
   "outputs": [],
   "source": [
    "%run \"lsqPlot.ipynb\""
   ]
  },
  {
   "cell_type": "code",
   "execution_count": 2,
   "metadata": {},
   "outputs": [],
   "source": [
    "import numpy as np\n",
    "import numpy.linalg as la\n",
    "import numpy.random as rnd"
   ]
  },
  {
   "cell_type": "code",
   "execution_count": 3,
   "metadata": {},
   "outputs": [],
   "source": [
    "import warnings\n",
    "warnings.simplefilter(action='ignore', category=FutureWarning)"
   ]
  },
  {
   "cell_type": "markdown",
   "metadata": {},
   "source": [
    "### Example data"
   ]
  },
  {
   "cell_type": "code",
   "execution_count": 4,
   "metadata": {},
   "outputs": [],
   "source": [
    "def create_data(n, xmin=-2, xmax=12, a=1.1, b=2.0):\n",
    "    x = rnd.random(n) * (xmax - xmin) + xmin\n",
    "    y = a * x + b + rnd.randn(n) * 0.5\n",
    "    return x, y"
   ]
  },
  {
   "cell_type": "code",
   "execution_count": 5,
   "metadata": {},
   "outputs": [],
   "source": [
    "x, y = create_data(25)"
   ]
  },
  {
   "cell_type": "code",
   "execution_count": 6,
   "metadata": {},
   "outputs": [
    {
     "name": "stdout",
     "output_type": "stream",
     "text": [
      "(-0.48, 1.60), (6.20, 9.58), (6.66, 9.45), (9.54, 12.35), (5.34, 7.83), (0.15, 1.49), (8.23, 11.21), (2.25, 4.34), (-0.83, 1.25), (0.27, 2.05), (0.18, 2.15), (-0.10, 1.05), (11.46, 14.59), (7.28, 10.60), (9.83, 12.49), (4.80, 7.87), (-0.00, 1.57), (8.92, 11.58), (10.31, 12.33), (7.85, 10.50), (0.02, 1.80), (8.19, 11.06), (5.66, 9.30), (2.05, 4.47), (10.42, 14.15), "
     ]
    }
   ],
   "source": [
    "for xi, yi in zip(x, y):\n",
    "    print('({:.2f}, {:.2f})'.format(xi, yi), end=', ')"
   ]
  },
  {
   "cell_type": "code",
   "execution_count": 7,
   "metadata": {},
   "outputs": [
    {
     "data": {
      "image/png": "[encoded data removed]",
      "text/plain": [
       "<Figure size 432x288 with 1 Axes>"
      ]
     },
     "metadata": {},
     "output_type": "display_data"
    }
   ],
   "source": [
    "plt.scatter(x, y)\n",
    "plt.show()"
   ]
  },
  {
   "cell_type": "markdown",
   "metadata": {},
   "source": [
    "### Ordinary Least Squares"
   ]
  },
  {
   "cell_type": "code",
   "execution_count": 8,
   "metadata": {},
   "outputs": [
    {
     "data": {
      "image/png": "[encoded data removed]",
      "text/plain": [
       "<Figure size 432x288 with 1 Axes>"
      ]
     },
     "metadata": {},
     "output_type": "display_data"
    }
   ],
   "source": [
    "X = np.vander(x, 2)\n",
    "w = la.lstsq(X, y)[0]\n",
    "yhat = X.dot(w)\n",
    "\n",
    "plt.plot(x, y, 'o')\n",
    "plt.plot(x, yhat, '-')\n",
    "plt.show()"
   ]
  },
  {
   "cell_type": "markdown",
   "metadata": {},
   "source": [
    "## Comparison of Implementation Variants"
   ]
  },
  {
   "cell_type": "markdown",
   "metadata": {},
   "source": [
    "### Computing a data matrix for linear regression"
   ]
  },
  {
   "cell_type": "code",
   "execution_count": 9,
   "metadata": {},
   "outputs": [],
   "source": [
    "def data_matrix_V1(x):\n",
    "    n = len(x)\n",
    "    return np.vstack((x, np.ones(n))).T\n",
    "\n",
    "def data_matrix_V2(x):\n",
    "    return np.vstack((x, np.ones_like(x))).T\n",
    "    \n",
    "def data_matrix_V3(x):\n",
    "    return np.vander(x, 2)"
   ]
  },
  {
   "cell_type": "code",
   "execution_count": 10,
   "metadata": {},
   "outputs": [],
   "source": [
    "x = [4.7, 1.1]\n",
    "\n",
    "X1 = data_matrix_V1(x)\n",
    "X2 = data_matrix_V2(x)\n",
    "X3 = data_matrix_V3(x)"
   ]
  },
  {
   "cell_type": "markdown",
   "metadata": {},
   "source": [
    "#### All three variants create the same matrix"
   ]
  },
  {
   "cell_type": "code",
   "execution_count": 11,
   "metadata": {},
   "outputs": [
    {
     "name": "stdout",
     "output_type": "stream",
     "text": [
      "[[4.7 1. ]\n",
      " [1.1 1. ]]\n",
      "\n",
      "[[4.7 1. ]\n",
      " [1.1 1. ]]\n",
      "\n",
      "[[4.7 1. ]\n",
      " [1.1 1. ]]\n"
     ]
    }
   ],
   "source": [
    "print(X1); print()\n",
    "print(X2); print()\n",
    "print(X3)"
   ]
  },
  {
   "cell_type": "markdown",
   "metadata": {},
   "source": [
    "### Solving Least Squares for Linear Regression"
   ]
  },
  {
   "cell_type": "code",
   "execution_count": 12,
   "metadata": {},
   "outputs": [],
   "source": [
    "def lsq_solution_V1(X, y):\n",
    "    w = la.inv(X.T.dot(X)).dot(X.T).dot(y)\n",
    "    return w\n",
    "\n",
    "def lsq_solution_V2(X, y):\n",
    "    w = np.dot(la.pinv(X), y)\n",
    "    return w\n",
    "\n",
    "def lsq_solution_V3(X, y):\n",
    "    w, residual, rank, svalues = la.lstsq(X, y)\n",
    "    return w"
   ]
  },
  {
   "cell_type": "markdown",
   "metadata": {},
   "source": [
    "#### All three variants create the same regression line"
   ]
  },
  {
   "cell_type": "code",
   "execution_count": 13,
   "metadata": {},
   "outputs": [
    {
     "name": "stdout",
     "output_type": "stream",
     "text": [
      "Version 1, w = [1.11041569 1.92858355]\n"
     ]
    },
    {
     "data": {
      "image/png": "[encoded data removed]",
      "text/plain": [
       "<Figure size 432x288 with 1 Axes>"
      ]
     },
     "metadata": {},
     "output_type": "display_data"
    },
    {
     "name": "stdout",
     "output_type": "stream",
     "text": [
      "\n",
      "Version 2, w= [1.11041569 1.92858355]\n"
     ]
    },
    {
     "data": {
      "image/png": "[encoded data removed]",
      "text/plain": [
       "<Figure size 432x288 with 1 Axes>"
      ]
     },
     "metadata": {},
     "output_type": "display_data"
    },
    {
     "name": "stdout",
     "output_type": "stream",
     "text": [
      "\n",
      "Version 3, w= [1.11041569 1.92858355]\n"
     ]
    },
    {
     "data": {
      "image/png": "[encoded data removed]",
      "text/plain": [
       "<Figure size 432x288 with 1 Axes>"
      ]
     },
     "metadata": {},
     "output_type": "display_data"
    }
   ],
   "source": [
    "n = 25\n",
    "x, y = create_data(n)\n",
    "\n",
    "X = np.vander(x, 2)\n",
    "w1 = lsq_solution_V1(X, y)\n",
    "yhat1 = X.dot(w1)\n",
    "\n",
    "w2 = lsq_solution_V2(X, y)\n",
    "yhat2 = X.dot(w2)\n",
    "\n",
    "w3 = lsq_solution_V3(X, y)\n",
    "yhat3 = X.dot(w3)\n",
    "\n",
    "print('Version 1, w =', w1)\n",
    "plt.plot(x, y, 'o')\n",
    "plt.plot(x, yhat1, '-')\n",
    "plt.show()\n",
    "print()\n",
    "\n",
    "print('Version 2, w=', w2)\n",
    "plt.plot(x, y, 'o')\n",
    "plt.plot(x, yhat2, '-')\n",
    "plt.show()\n",
    "print()\n",
    "\n",
    "print('Version 3, w=', w3)\n",
    "plt.plot(x, y, 'o')\n",
    "plt.plot(x, yhat3, '-')\n",
    "plt.show()"
   ]
  },
  {
   "cell_type": "markdown",
   "metadata": {},
   "source": [
    "### Performance comparison"
   ]
  },
  {
   "cell_type": "code",
   "execution_count": 14,
   "metadata": {},
   "outputs": [
    {
     "name": "stdout",
     "output_type": "stream",
     "text": [
      "         n        V1        V2        V3\n",
      "       100     0.005     0.014     0.009\n",
      "      1000     0.004     0.015     0.008\n",
      "     10000     0.013     0.036     0.015\n",
      "    100000     0.047     0.136     0.061\n",
      "   1000000     0.571     1.507     0.751\n"
     ]
    }
   ],
   "source": [
    "import timeit\n",
    "\n",
    "print(9*' '+'n', end='')\n",
    "for v in [1, 2, 3]:\n",
    "    print(8*' ' + 'V{}'.format(v), end='')\n",
    "print()\n",
    "\n",
    "for n in [100, 1_000, 10_000, 100_000, 1_000_000]:\n",
    "    print('{:10}'.format(n), end='')\n",
    "    for v in [1, 2, 3]:\n",
    "        t = timeit.timeit(\n",
    "            stmt    = 'lsq_solution_V{}(X, y)'.format(v), \n",
    "            setup   = 'x, y = create_data(n); X = np.vander(x, 2)', \n",
    "            number  = 100, \n",
    "            globals = globals()\n",
    "        )\n",
    "        print('{:10.3f}'.format(t), end='')\n",
    "    print()"
   ]
  },
  {
   "cell_type": "markdown",
   "metadata": {},
   "source": [
    "## Recreating the nice plots of the paper"
   ]
  },
  {
   "cell_type": "code",
   "execution_count": 15,
   "metadata": {},
   "outputs": [],
   "source": [
    "def dataXYBoundingBox(X, extension=0.1):\n",
    "    xmin = X[0, :].min(); xmax = X[0,:].max(); dx = xmax - xmin\n",
    "    ymin = X[1, :].min(); ymax = X[1,:].max(); dy = ymax - ymin\n",
    "    \n",
    "    return [xmin - extension * dx, xmax + extension * dx,\n",
    "            ymin - extension * dy, ymax + extension * dy]"
   ]
  },
  {
   "cell_type": "code",
   "execution_count": 16,
   "metadata": {},
   "outputs": [],
   "source": [
    "x, y = create_data(25)\n",
    "X = np.vstack((x,y)) "
   ]
  },
  {
   "cell_type": "code",
   "execution_count": 17,
   "metadata": {},
   "outputs": [
    {
     "data": {
      "image/png": "[encoded data removed]",
      "text/plain": [
       "<Figure size 432x288 with 1 Axes>"
      ]
     },
     "metadata": {},
     "output_type": "display_data"
    },
    {
     "data": {
      "image/png": "[encoded data removed]",
      "text/plain": [
       "<Figure size 432x288 with 1 Axes>"
      ]
     },
     "metadata": {},
     "output_type": "display_data"
    },
    {
     "name": "stdout",
     "output_type": "stream",
     "text": [
      "w =  [1.11872329 1.7863892 ]\n"
     ]
    }
   ],
   "source": [
    "limits = dataXYBoundingBox(X, extension=0.3)\n",
    "\n",
    "C = np.vander(x, 2)\n",
    "w = la.lstsq(C, y)[0]\n",
    "\n",
    "umin = np.floor(limits[0])\n",
    "umax = np.ceil (limits[1])\n",
    "u = np.array([umin,umax])\n",
    "v = np.dot(np.vander(u, 2), w)\n",
    "M = np.vstack((u,v))\n",
    "\n",
    "\n",
    "plotXYData(X, xlab='data', cart=True, lims=limits, legloc=[0.7,0.2])\n",
    "plotXYData(X, MS=[M], mlabs=['model'], cart=True, lims=limits, legloc=[0.7,0.2])\n",
    "print ('w = ', w)"
   ]
  },
  {
   "cell_type": "markdown",
   "metadata": {},
   "source": [
    "<table style=\"width:100%\">\n",
    "  <tr>\n",
    "      <td colspan=\"1\" style=\"text-align:left;background-color:#0071BD;color:white\">\n",
    "        <a rel=\"license\" href=\"http://creativecommons.org/licenses/by-nc/4.0/\">\n",
    "            <img alt=\"Creative Commons License\" style=\"border-width:0;float:left;padding-right:10pt\"\n",
    "                 src=\"https://i.creativecommons.org/l/by-nc/4.0/88x31.png\" />\n",
    "        </a>\n",
    "        &copy; C. Bauckhage and O. Cremers<br/>\n",
    "        Licensed under a \n",
    "        <a rel=\"license\" href=\"http://creativecommons.org/licenses/by-nc/4.0/\" style=\"color:white\">\n",
    "            CC BY-NC 4.0\n",
    "        </a>.\n",
    "      </td>\n",
    "      <td colspan=\"2\" style=\"text-align:left;background-color:#66A5D1\">\n",
    "          <b>Acknowledgments:</b>\n",
    "          This material was prepared within the project\n",
    "          <a href=\"http://www.b-it-center.de/b-it-programmes/teaching-material/p3ml/\" style=\"color:black\">\n",
    "              P3ML\n",
    "          </a> \n",
    "          which is funded by the Ministry of Education and Research of Germany (BMBF)\n",
    "          under grant number 01/S17064. The authors gratefully acknowledge this support.\n",
    "      </td>\n",
    "  </tr>\n",
    "</table>"
   ]
  }
 ],
 "metadata": {
  "kernelspec": {
   "display_name": "Python 3",
   "language": "python",
   "name": "python3"
  },
  "language_info": {
   "codemirror_mode": {
    "name": "ipython",
    "version": 3
   },
   "file_extension": ".py",
   "mimetype": "text/x-python",
   "name": "python",
   "nbconvert_exporter": "python",
   "pygments_lexer": "ipython3",
   "version": "3.6.6"
  }
 },
 "nbformat": 4,
 "nbformat_minor": 2
}
